{
  "cells": [
    {
      "cell_type": "code",
      "source": [
        "# PREPARE SPARK FOR USE"
      ],
      "metadata": {
        "id": "Pl4Dm4ZghqC_"
      },
      "id": "Pl4Dm4ZghqC_",
      "execution_count": 1,
      "outputs": []
    },
    {
      "cell_type": "code",
      "source": [
        "# Install pyspark and pyspark sql\n",
        "!pip install pyspark\n",
        "!pip install pyspark[sql]"
      ],
      "metadata": {
        "colab": {
          "base_uri": "https://localhost:8080/"
        },
        "id": "a67lZAvJqwj-",
        "outputId": "6c3b493a-109a-4b22-8ea3-dd812f9d637b"
      },
      "id": "a67lZAvJqwj-",
      "execution_count": 2,
      "outputs": [
        {
          "output_type": "stream",
          "name": "stdout",
          "text": [
            "Looking in indexes: https://pypi.org/simple, https://us-python.pkg.dev/colab-wheels/public/simple/\n",
            "Requirement already satisfied: pyspark in /usr/local/lib/python3.10/dist-packages (3.4.0)\n",
            "Requirement already satisfied: py4j==0.10.9.7 in /usr/local/lib/python3.10/dist-packages (from pyspark) (0.10.9.7)\n",
            "Looking in indexes: https://pypi.org/simple, https://us-python.pkg.dev/colab-wheels/public/simple/\n",
            "Requirement already satisfied: pyspark[sql] in /usr/local/lib/python3.10/dist-packages (3.4.0)\n",
            "Requirement already satisfied: py4j==0.10.9.7 in /usr/local/lib/python3.10/dist-packages (from pyspark[sql]) (0.10.9.7)\n",
            "Requirement already satisfied: pyarrow>=1.0.0 in /usr/local/lib/python3.10/dist-packages (from pyspark[sql]) (9.0.0)\n",
            "Requirement already satisfied: numpy>=1.15 in /usr/local/lib/python3.10/dist-packages (from pyspark[sql]) (1.22.4)\n",
            "Requirement already satisfied: pandas>=1.0.5 in /usr/local/lib/python3.10/dist-packages (from pyspark[sql]) (1.5.3)\n",
            "Requirement already satisfied: python-dateutil>=2.8.1 in /usr/local/lib/python3.10/dist-packages (from pandas>=1.0.5->pyspark[sql]) (2.8.2)\n",
            "Requirement already satisfied: pytz>=2020.1 in /usr/local/lib/python3.10/dist-packages (from pandas>=1.0.5->pyspark[sql]) (2022.7.1)\n",
            "Requirement already satisfied: six>=1.5 in /usr/local/lib/python3.10/dist-packages (from python-dateutil>=2.8.1->pandas>=1.0.5->pyspark[sql]) (1.16.0)\n"
          ]
        }
      ]
    },
    {
      "cell_type": "code",
      "source": [
        "# set environment variables\n",
        "!PYSPARK_HADOOP_VERSION=3.2 pip install pyspark\n",
        "!PYSPARK_RELEASE_MIRROR=http://mirror.apache-kr.org PYSPARK_HADOOP_VERSION=2.7\n",
        "!PYSPARK_HADOOP_VERSION=3.2 pip install pyspark -v"
      ],
      "metadata": {
        "colab": {
          "base_uri": "https://localhost:8080/"
        },
        "id": "MHncjhg6iG6J",
        "outputId": "4b18633a-faee-435a-8e17-78274776f828"
      },
      "id": "MHncjhg6iG6J",
      "execution_count": 3,
      "outputs": [
        {
          "output_type": "stream",
          "name": "stdout",
          "text": [
            "Looking in indexes: https://pypi.org/simple, https://us-python.pkg.dev/colab-wheels/public/simple/\n",
            "Requirement already satisfied: pyspark in /usr/local/lib/python3.10/dist-packages (3.4.0)\n",
            "Requirement already satisfied: py4j==0.10.9.7 in /usr/local/lib/python3.10/dist-packages (from pyspark) (0.10.9.7)\n",
            "Using pip 23.0.1 from /usr/local/lib/python3.10/dist-packages/pip (python 3.10)\n",
            "Looking in indexes: https://pypi.org/simple, https://us-python.pkg.dev/colab-wheels/public/simple/\n",
            "Requirement already satisfied: pyspark in /usr/local/lib/python3.10/dist-packages (3.4.0)\n",
            "Requirement already satisfied: py4j==0.10.9.7 in /usr/local/lib/python3.10/dist-packages (from pyspark) (0.10.9.7)\n"
          ]
        }
      ]
    },
    {
      "cell_type": "code",
      "source": [
        "from pyspark.sql.functions import *"
      ],
      "metadata": {
        "id": "ILiKtktsUd1R"
      },
      "id": "ILiKtktsUd1R",
      "execution_count": 4,
      "outputs": []
    },
    {
      "cell_type": "code",
      "source": [
        "from pyspark.sql import SparkSession\n",
        "\n",
        "spark = SparkSession.builder.master(\"local[*]\").getOrCreate()"
      ],
      "metadata": {
        "id": "t79gwyTtv2fG"
      },
      "id": "t79gwyTtv2fG",
      "execution_count": 5,
      "outputs": []
    },
    {
      "cell_type": "code",
      "source": [
        "# create credentials, create s3 session with boto3"
      ],
      "metadata": {
        "id": "j3CVHoY7zC71"
      },
      "id": "j3CVHoY7zC71",
      "execution_count": null,
      "outputs": []
    },
    {
      "cell_type": "code",
      "source": [
        "# Fill your aws credential information here\n",
        "credentials = {\n",
        "    'region_name': 'us-east-1',\n",
        "    'aws_access_key_id': 'xxxx',\n",
        "    'aws_secret_access_key': 'xxxx',\n",
        "    'aws_session_token': 'xxxx'\n",
        "}"
      ],
      "metadata": {
        "id": "MGBddh3hxL8T"
      },
      "id": "MGBddh3hxL8T",
      "execution_count": null,
      "outputs": []
    },
    {
      "cell_type": "code",
      "source": [
        "!pip install boto3\n",
        "import boto3\n",
        "\n",
        "session = boto3.session.Session(**credentials)\n",
        "s3 = session.client('s3')"
      ],
      "metadata": {
        "colab": {
          "base_uri": "https://localhost:8080/"
        },
        "id": "4wLJdAhRxkTH",
        "outputId": "9adb1ca5-265f-4315-ae27-b2cceb3befac"
      },
      "id": "4wLJdAhRxkTH",
      "execution_count": null,
      "outputs": [
        {
          "output_type": "stream",
          "name": "stdout",
          "text": [
            "Looking in indexes: https://pypi.org/simple, https://us-python.pkg.dev/colab-wheels/public/simple/\n",
            "Collecting boto3\n",
            "  Downloading boto3-1.26.120-py3-none-any.whl (135 kB)\n",
            "\u001b[2K     \u001b[90m━━━━━━━━━━━━━━━━━━━━━━━━━━━━━━━━━━━━━━━\u001b[0m \u001b[32m135.6/135.6 kB\u001b[0m \u001b[31m4.2 MB/s\u001b[0m eta \u001b[36m0:00:00\u001b[0m\n",
            "\u001b[?25hCollecting s3transfer<0.7.0,>=0.6.0\n",
            "  Downloading s3transfer-0.6.0-py3-none-any.whl (79 kB)\n",
            "\u001b[2K     \u001b[90m━━━━━━━━━━━━━━━━━━━━━━━━━━━━━━━━━━━━━━━━\u001b[0m \u001b[32m79.6/79.6 kB\u001b[0m \u001b[31m8.1 MB/s\u001b[0m eta \u001b[36m0:00:00\u001b[0m\n",
            "\u001b[?25hCollecting jmespath<2.0.0,>=0.7.1\n",
            "  Downloading jmespath-1.0.1-py3-none-any.whl (20 kB)\n",
            "Collecting botocore<1.30.0,>=1.29.120\n",
            "  Downloading botocore-1.29.120-py3-none-any.whl (10.7 MB)\n",
            "\u001b[2K     \u001b[90m━━━━━━━━━━━━━━━━━━━━━━━━━━━━━━━━━━━━━━━━\u001b[0m \u001b[32m10.7/10.7 MB\u001b[0m \u001b[31m32.2 MB/s\u001b[0m eta \u001b[36m0:00:00\u001b[0m\n",
            "\u001b[?25hRequirement already satisfied: python-dateutil<3.0.0,>=2.1 in /usr/local/lib/python3.9/dist-packages (from botocore<1.30.0,>=1.29.120->boto3) (2.8.2)\n",
            "Requirement already satisfied: urllib3<1.27,>=1.25.4 in /usr/local/lib/python3.9/dist-packages (from botocore<1.30.0,>=1.29.120->boto3) (1.26.15)\n",
            "Requirement already satisfied: six>=1.5 in /usr/local/lib/python3.9/dist-packages (from python-dateutil<3.0.0,>=2.1->botocore<1.30.0,>=1.29.120->boto3) (1.16.0)\n",
            "Installing collected packages: jmespath, botocore, s3transfer, boto3\n",
            "Successfully installed boto3-1.26.120 botocore-1.29.120 jmespath-1.0.1 s3transfer-0.6.0\n"
          ]
        }
      ]
    },
    {
      "cell_type": "code",
      "source": [
        "roads_file = s3.get_object(Bucket='bigdata-incident-project', Key='data/USA_Tennessee.geojson')\n",
        "print(roads_file)"
      ],
      "metadata": {
        "colab": {
          "base_uri": "https://localhost:8080/"
        },
        "id": "zbKGmlf8A6Xi",
        "outputId": "c52cf128-f630-4205-e246-21ed2ac1ff67"
      },
      "id": "zbKGmlf8A6Xi",
      "execution_count": null,
      "outputs": [
        {
          "output_type": "stream",
          "name": "stdout",
          "text": [
            "{'ResponseMetadata': {'RequestId': '2150SMFCET51TFP2', 'HostId': '0tHhwVcPwh5D+TdvJNJq9Kj1r4SYzVMbLbhdhrX3MQKpGItvbKDU2flWLtNfPfmsdLG3Y3ZdjrU=', 'HTTPStatusCode': 200, 'HTTPHeaders': {'x-amz-id-2': '0tHhwVcPwh5D+TdvJNJq9Kj1r4SYzVMbLbhdhrX3MQKpGItvbKDU2flWLtNfPfmsdLG3Y3ZdjrU=', 'x-amz-request-id': '2150SMFCET51TFP2', 'date': 'Wed, 26 Apr 2023 00:52:27 GMT', 'last-modified': 'Mon, 17 Apr 2023 18:45:07 GMT', 'etag': '\"9218db489de97f7e88e2e6cc52fae478-11\"', 'x-amz-server-side-encryption': 'AES256', 'accept-ranges': 'bytes', 'content-type': 'application/x-www-form-urlencoded; charset=utf-8', 'server': 'AmazonS3', 'content-length': '176882310'}, 'RetryAttempts': 0}, 'AcceptRanges': 'bytes', 'LastModified': datetime.datetime(2023, 4, 17, 18, 45, 7, tzinfo=tzutc()), 'ContentLength': 176882310, 'ETag': '\"9218db489de97f7e88e2e6cc52fae478-11\"', 'ContentType': 'application/x-www-form-urlencoded; charset=utf-8', 'ServerSideEncryption': 'AES256', 'Metadata': {}, 'Body': <botocore.response.StreamingBody object at 0x7fbe08f77fa0>}\n"
          ]
        }
      ]
    },
    {
      "cell_type": "code",
      "source": [
        "# DATA IN THE S3 BUCKET\n",
        "# =====================\n",
        "# data/USA_Tennessee.geojson\n",
        "# data/nfd_incidents_xd_seg.parquet\n",
        "# data/weather_tn.parquet/ **this is a folder \n",
        "# data/traffic.parquet/ **this is a folder"
      ],
      "metadata": {
        "id": "s2RZgahDDSFY"
      },
      "id": "s2RZgahDDSFY",
      "execution_count": null,
      "outputs": []
    },
    {
      "cell_type": "code",
      "execution_count": null,
      "id": "96d418ca-5c11-43f4-b70c-c383eaf4aa80",
      "metadata": {
        "id": "96d418ca-5c11-43f4-b70c-c383eaf4aa80"
      },
      "outputs": [],
      "source": [
        "# Read the road geometery"
      ]
    },
    {
      "cell_type": "code",
      "execution_count": null,
      "id": "7e8d7004-96cc-4d54-a6e1-492d7f7b5f52",
      "metadata": {
        "colab": {
          "base_uri": "https://localhost:8080/"
        },
        "id": "7e8d7004-96cc-4d54-a6e1-492d7f7b5f52",
        "outputId": "2af6d43d-54e4-45c2-d0ba-a9ad29f3898f"
      },
      "outputs": [
        {
          "output_type": "stream",
          "name": "stdout",
          "text": [
            "Looking in indexes: https://pypi.org/simple, https://us-python.pkg.dev/colab-wheels/public/simple/\n",
            "Collecting geopandas\n",
            "  Downloading geopandas-0.12.2-py3-none-any.whl (1.1 MB)\n",
            "\u001b[2K     \u001b[90m━━━━━━━━━━━━━━━━━━━━━━━━━━━━━━━━━━━━━━━━\u001b[0m \u001b[32m1.1/1.1 MB\u001b[0m \u001b[31m15.1 MB/s\u001b[0m eta \u001b[36m0:00:00\u001b[0m\n",
            "\u001b[?25hRequirement already satisfied: pandas in /usr/local/lib/python3.10/dist-packages (1.5.3)\n",
            "Requirement already satisfied: pyarrow in /usr/local/lib/python3.10/dist-packages (9.0.0)\n",
            "Requirement already satisfied: shapely>=1.7 in /usr/local/lib/python3.10/dist-packages (from geopandas) (2.0.1)\n",
            "Collecting pyproj>=2.6.1.post1\n",
            "  Downloading pyproj-3.5.0-cp310-cp310-manylinux_2_17_x86_64.manylinux2014_x86_64.whl (7.7 MB)\n",
            "\u001b[2K     \u001b[90m━━━━━━━━━━━━━━━━━━━━━━━━━━━━━━━━━━━━━━━━\u001b[0m \u001b[32m7.7/7.7 MB\u001b[0m \u001b[31m72.3 MB/s\u001b[0m eta \u001b[36m0:00:00\u001b[0m\n",
            "\u001b[?25hRequirement already satisfied: packaging in /usr/local/lib/python3.10/dist-packages (from geopandas) (23.1)\n",
            "Collecting fiona>=1.8\n",
            "  Downloading Fiona-1.9.3-cp310-cp310-manylinux_2_17_x86_64.manylinux2014_x86_64.whl (16.0 MB)\n",
            "\u001b[2K     \u001b[90m━━━━━━━━━━━━━━━━━━━━━━━━━━━━━━━━━━━━━━━━\u001b[0m \u001b[32m16.0/16.0 MB\u001b[0m \u001b[31m57.5 MB/s\u001b[0m eta \u001b[36m0:00:00\u001b[0m\n",
            "\u001b[?25hRequirement already satisfied: python-dateutil>=2.8.1 in /usr/local/lib/python3.10/dist-packages (from pandas) (2.8.2)\n",
            "Requirement already satisfied: pytz>=2020.1 in /usr/local/lib/python3.10/dist-packages (from pandas) (2022.7.1)\n",
            "Requirement already satisfied: numpy>=1.21.0 in /usr/local/lib/python3.10/dist-packages (from pandas) (1.22.4)\n",
            "Requirement already satisfied: certifi in /usr/local/lib/python3.10/dist-packages (from fiona>=1.8->geopandas) (2022.12.7)\n",
            "Requirement already satisfied: click~=8.0 in /usr/local/lib/python3.10/dist-packages (from fiona>=1.8->geopandas) (8.1.3)\n",
            "Requirement already satisfied: attrs>=19.2.0 in /usr/local/lib/python3.10/dist-packages (from fiona>=1.8->geopandas) (23.1.0)\n",
            "Collecting click-plugins>=1.0\n",
            "  Downloading click_plugins-1.1.1-py2.py3-none-any.whl (7.5 kB)\n",
            "Collecting cligj>=0.5\n",
            "  Downloading cligj-0.7.2-py3-none-any.whl (7.1 kB)\n",
            "Collecting munch>=2.3.2\n",
            "  Downloading munch-2.5.0-py2.py3-none-any.whl (10 kB)\n",
            "Requirement already satisfied: six>=1.5 in /usr/local/lib/python3.10/dist-packages (from python-dateutil>=2.8.1->pandas) (1.16.0)\n",
            "Installing collected packages: pyproj, munch, cligj, click-plugins, fiona, geopandas\n",
            "Successfully installed click-plugins-1.1.1 cligj-0.7.2 fiona-1.9.3 geopandas-0.12.2 munch-2.5.0 pyproj-3.5.0\n"
          ]
        }
      ],
      "source": [
        "!pip install geopandas pandas pyarrow"
      ]
    },
    {
      "cell_type": "code",
      "execution_count": null,
      "id": "f2c5f976-4027-4b6d-8798-ccb82dd2e1a3",
      "metadata": {
        "id": "f2c5f976-4027-4b6d-8798-ccb82dd2e1a3"
      },
      "outputs": [],
      "source": [
        "import geopandas as gpd"
      ]
    },
    {
      "cell_type": "code",
      "execution_count": null,
      "id": "24f9c84d-5b69-499e-9797-7f618655f66a",
      "metadata": {
        "id": "24f9c84d-5b69-499e-9797-7f618655f66a"
      },
      "outputs": [],
      "source": [
        "roads=gpd.read_file('USA_Tennessee.geojson')"
      ]
    },
    {
      "cell_type": "code",
      "execution_count": null,
      "id": "2141b097-d901-4f1e-b4b2-882f3a6a603f",
      "metadata": {
        "id": "2141b097-d901-4f1e-b4b2-882f3a6a603f",
        "colab": {
          "base_uri": "https://localhost:8080/",
          "height": 344
        },
        "outputId": "bee375ec-6a6b-460a-eb0b-8cf9cbbd74e5"
      },
      "outputs": [
        {
          "output_type": "execute_result",
          "data": {
            "text/plain": [
              "       OID    XDSegID   PreviousXD   NextXDSegI FRC  ToExport     Miles  \\\n",
              "0  7229828  136894283  441153578.0  441154707.0   4       NaN  0.475558   \n",
              "1  7229829  136894316          NaN          NaN   5       NaN  0.047735   \n",
              "\n",
              "    Lanes RoadNumber       RoadName  ... PrimaryTmc            RoadList  \\\n",
              "0  1.0225             KNOB CREEK RD  ...                  KNOB CREEK RD   \n",
              "1  1.1470                16TH ST SW  ...             16TH ST SW|16TH ST   \n",
              "\n",
              "   StartLat StartLong    EndLat   EndLong Bearing XDGroup ShapeSRID  \\\n",
              "0  36.35334 -82.42849  36.34747 -82.42857       E  765512      4326   \n",
              "1  35.95902 -83.93125  35.95965 -83.93160       N  765513      4326   \n",
              "\n",
              "                                            geometry  \n",
              "0  LINESTRING (-82.42849 36.35334, -82.42794 36.3...  \n",
              "1  LINESTRING (-83.93128 35.95901, -83.93158 35.9...  \n",
              "\n",
              "[2 rows x 28 columns]"
            ],
            "text/html": [
              "\n",
              "  <div id=\"df-591cc005-24f2-4bb3-9d74-2a656e08a662\">\n",
              "    <div class=\"colab-df-container\">\n",
              "      <div>\n",
              "<style scoped>\n",
              "    .dataframe tbody tr th:only-of-type {\n",
              "        vertical-align: middle;\n",
              "    }\n",
              "\n",
              "    .dataframe tbody tr th {\n",
              "        vertical-align: top;\n",
              "    }\n",
              "\n",
              "    .dataframe thead th {\n",
              "        text-align: right;\n",
              "    }\n",
              "</style>\n",
              "<table border=\"1\" class=\"dataframe\">\n",
              "  <thead>\n",
              "    <tr style=\"text-align: right;\">\n",
              "      <th></th>\n",
              "      <th>OID</th>\n",
              "      <th>XDSegID</th>\n",
              "      <th>PreviousXD</th>\n",
              "      <th>NextXDSegI</th>\n",
              "      <th>FRC</th>\n",
              "      <th>ToExport</th>\n",
              "      <th>Miles</th>\n",
              "      <th>Lanes</th>\n",
              "      <th>RoadNumber</th>\n",
              "      <th>RoadName</th>\n",
              "      <th>...</th>\n",
              "      <th>PrimaryTmc</th>\n",
              "      <th>RoadList</th>\n",
              "      <th>StartLat</th>\n",
              "      <th>StartLong</th>\n",
              "      <th>EndLat</th>\n",
              "      <th>EndLong</th>\n",
              "      <th>Bearing</th>\n",
              "      <th>XDGroup</th>\n",
              "      <th>ShapeSRID</th>\n",
              "      <th>geometry</th>\n",
              "    </tr>\n",
              "  </thead>\n",
              "  <tbody>\n",
              "    <tr>\n",
              "      <th>0</th>\n",
              "      <td>7229828</td>\n",
              "      <td>136894283</td>\n",
              "      <td>441153578.0</td>\n",
              "      <td>441154707.0</td>\n",
              "      <td>4</td>\n",
              "      <td>NaN</td>\n",
              "      <td>0.475558</td>\n",
              "      <td>1.0225</td>\n",
              "      <td></td>\n",
              "      <td>KNOB CREEK RD</td>\n",
              "      <td>...</td>\n",
              "      <td></td>\n",
              "      <td>KNOB CREEK RD</td>\n",
              "      <td>36.35334</td>\n",
              "      <td>-82.42849</td>\n",
              "      <td>36.34747</td>\n",
              "      <td>-82.42857</td>\n",
              "      <td>E</td>\n",
              "      <td>765512</td>\n",
              "      <td>4326</td>\n",
              "      <td>LINESTRING (-82.42849 36.35334, -82.42794 36.3...</td>\n",
              "    </tr>\n",
              "    <tr>\n",
              "      <th>1</th>\n",
              "      <td>7229829</td>\n",
              "      <td>136894316</td>\n",
              "      <td>NaN</td>\n",
              "      <td>NaN</td>\n",
              "      <td>5</td>\n",
              "      <td>NaN</td>\n",
              "      <td>0.047735</td>\n",
              "      <td>1.1470</td>\n",
              "      <td></td>\n",
              "      <td>16TH ST SW</td>\n",
              "      <td>...</td>\n",
              "      <td></td>\n",
              "      <td>16TH ST SW|16TH ST</td>\n",
              "      <td>35.95902</td>\n",
              "      <td>-83.93125</td>\n",
              "      <td>35.95965</td>\n",
              "      <td>-83.93160</td>\n",
              "      <td>N</td>\n",
              "      <td>765513</td>\n",
              "      <td>4326</td>\n",
              "      <td>LINESTRING (-83.93128 35.95901, -83.93158 35.9...</td>\n",
              "    </tr>\n",
              "  </tbody>\n",
              "</table>\n",
              "<p>2 rows × 28 columns</p>\n",
              "</div>\n",
              "      <button class=\"colab-df-convert\" onclick=\"convertToInteractive('df-591cc005-24f2-4bb3-9d74-2a656e08a662')\"\n",
              "              title=\"Convert this dataframe to an interactive table.\"\n",
              "              style=\"display:none;\">\n",
              "        \n",
              "  <svg xmlns=\"http://www.w3.org/2000/svg\" height=\"24px\"viewBox=\"0 0 24 24\"\n",
              "       width=\"24px\">\n",
              "    <path d=\"M0 0h24v24H0V0z\" fill=\"none\"/>\n",
              "    <path d=\"M18.56 5.44l.94 2.06.94-2.06 2.06-.94-2.06-.94-.94-2.06-.94 2.06-2.06.94zm-11 1L8.5 8.5l.94-2.06 2.06-.94-2.06-.94L8.5 2.5l-.94 2.06-2.06.94zm10 10l.94 2.06.94-2.06 2.06-.94-2.06-.94-.94-2.06-.94 2.06-2.06.94z\"/><path d=\"M17.41 7.96l-1.37-1.37c-.4-.4-.92-.59-1.43-.59-.52 0-1.04.2-1.43.59L10.3 9.45l-7.72 7.72c-.78.78-.78 2.05 0 2.83L4 21.41c.39.39.9.59 1.41.59.51 0 1.02-.2 1.41-.59l7.78-7.78 2.81-2.81c.8-.78.8-2.07 0-2.86zM5.41 20L4 18.59l7.72-7.72 1.47 1.35L5.41 20z\"/>\n",
              "  </svg>\n",
              "      </button>\n",
              "      \n",
              "  <style>\n",
              "    .colab-df-container {\n",
              "      display:flex;\n",
              "      flex-wrap:wrap;\n",
              "      gap: 12px;\n",
              "    }\n",
              "\n",
              "    .colab-df-convert {\n",
              "      background-color: #E8F0FE;\n",
              "      border: none;\n",
              "      border-radius: 50%;\n",
              "      cursor: pointer;\n",
              "      display: none;\n",
              "      fill: #1967D2;\n",
              "      height: 32px;\n",
              "      padding: 0 0 0 0;\n",
              "      width: 32px;\n",
              "    }\n",
              "\n",
              "    .colab-df-convert:hover {\n",
              "      background-color: #E2EBFA;\n",
              "      box-shadow: 0px 1px 2px rgba(60, 64, 67, 0.3), 0px 1px 3px 1px rgba(60, 64, 67, 0.15);\n",
              "      fill: #174EA6;\n",
              "    }\n",
              "\n",
              "    [theme=dark] .colab-df-convert {\n",
              "      background-color: #3B4455;\n",
              "      fill: #D2E3FC;\n",
              "    }\n",
              "\n",
              "    [theme=dark] .colab-df-convert:hover {\n",
              "      background-color: #434B5C;\n",
              "      box-shadow: 0px 1px 3px 1px rgba(0, 0, 0, 0.15);\n",
              "      filter: drop-shadow(0px 1px 2px rgba(0, 0, 0, 0.3));\n",
              "      fill: #FFFFFF;\n",
              "    }\n",
              "  </style>\n",
              "\n",
              "      <script>\n",
              "        const buttonEl =\n",
              "          document.querySelector('#df-591cc005-24f2-4bb3-9d74-2a656e08a662 button.colab-df-convert');\n",
              "        buttonEl.style.display =\n",
              "          google.colab.kernel.accessAllowed ? 'block' : 'none';\n",
              "\n",
              "        async function convertToInteractive(key) {\n",
              "          const element = document.querySelector('#df-591cc005-24f2-4bb3-9d74-2a656e08a662');\n",
              "          const dataTable =\n",
              "            await google.colab.kernel.invokeFunction('convertToInteractive',\n",
              "                                                     [key], {});\n",
              "          if (!dataTable) return;\n",
              "\n",
              "          const docLinkHtml = 'Like what you see? Visit the ' +\n",
              "            '<a target=\"_blank\" href=https://colab.research.google.com/notebooks/data_table.ipynb>data table notebook</a>'\n",
              "            + ' to learn more about interactive tables.';\n",
              "          element.innerHTML = '';\n",
              "          dataTable['output_type'] = 'display_data';\n",
              "          await google.colab.output.renderOutput(dataTable, element);\n",
              "          const docLink = document.createElement('div');\n",
              "          docLink.innerHTML = docLinkHtml;\n",
              "          element.appendChild(docLink);\n",
              "        }\n",
              "      </script>\n",
              "    </div>\n",
              "  </div>\n",
              "  "
            ]
          },
          "metadata": {},
          "execution_count": 12
        }
      ],
      "source": [
        "roads.head(2)"
      ]
    },
    {
      "cell_type": "code",
      "execution_count": null,
      "id": "a8f45638-d838-4fb4-8f97-29ee33c07865",
      "metadata": {
        "colab": {
          "base_uri": "https://localhost:8080/"
        },
        "id": "a8f45638-d838-4fb4-8f97-29ee33c07865",
        "outputId": "5d0ca438-7c62-44c3-c4db-3beeb8b0dad8"
      },
      "outputs": [
        {
          "output_type": "execute_result",
          "data": {
            "text/plain": [
              "Index(['OID', 'XDSegID', 'PreviousXD', 'NextXDSegI', 'FRC', 'ToExport',\n",
              "       'Miles', 'Lanes', 'RoadNumber', 'RoadName', 'Country', 'State',\n",
              "       'County', 'PostalCode', 'SlipRoad', 'SpecialRoa', 'IsConnecto',\n",
              "       'AllTmcList', 'PrimaryTmc', 'RoadList', 'StartLat', 'StartLong',\n",
              "       'EndLat', 'EndLong', 'Bearing', 'XDGroup', 'ShapeSRID', 'geometry'],\n",
              "      dtype='object')"
            ]
          },
          "metadata": {},
          "execution_count": 13
        }
      ],
      "source": [
        "roads.columns"
      ]
    },
    {
      "cell_type": "code",
      "execution_count": null,
      "id": "c3e80a75-aa90-4af1-8bf8-ff800ce5028c",
      "metadata": {
        "id": "c3e80a75-aa90-4af1-8bf8-ff800ce5028c"
      },
      "outputs": [],
      "source": [
        "#FRC describes the road kind. 1 are major interstates and 5 are very small roads. See https://docs.inrix.com/reference/glossary/"
      ]
    },
    {
      "cell_type": "code",
      "execution_count": null,
      "id": "a6492b33-45f0-48b9-a34a-355078e0aad1",
      "metadata": {
        "id": "a6492b33-45f0-48b9-a34a-355078e0aad1"
      },
      "outputs": [],
      "source": [
        "roads=roads[roads.County=='DAVIDSON']"
      ]
    },
    {
      "cell_type": "code",
      "execution_count": null,
      "id": "cc621fbd-0198-4340-9ab9-7eeb6cf0c092",
      "metadata": {
        "colab": {
          "base_uri": "https://localhost:8080/",
          "height": 447
        },
        "id": "cc621fbd-0198-4340-9ab9-7eeb6cf0c092",
        "outputId": "993904ca-2f34-4613-886f-fc4153cd2af0"
      },
      "outputs": [
        {
          "output_type": "execute_result",
          "data": {
            "text/plain": [
              "<Axes: >"
            ]
          },
          "metadata": {},
          "execution_count": 16
        },
        {
          "output_type": "display_data",
          "data": {
            "text/plain": [
              "<Figure size 640x480 with 1 Axes>"
            ],
            "image/png": "[encoded data removed]"
          },
          "metadata": {}
        }
      ],
      "source": [
        "roads.plot()"
      ]
    },
    {
      "cell_type": "code",
      "execution_count": null,
      "id": "eec3f3bc-3ed5-404a-9c24-b1a7adf1626f",
      "metadata": {
        "colab": {
          "base_uri": "https://localhost:8080/"
        },
        "id": "eec3f3bc-3ed5-404a-9c24-b1a7adf1626f",
        "outputId": "4c69c40f-5c06-47c0-dd0f-ba72c5f4c959"
      },
      "outputs": [
        {
          "output_type": "execute_result",
          "data": {
            "text/plain": [
              "9033     LINESTRING (-86.75077 36.17116, -86.75076 36.1...\n",
              "9045     LINESTRING (-86.77000 36.11989, -86.77046 36.1...\n",
              "9051     LINESTRING (-86.77935 36.03619, -86.77935 36.0...\n",
              "9055     LINESTRING (-86.75020 36.15446, -86.75019 36.1...\n",
              "9056     LINESTRING (-86.71250 36.32843, -86.71272 36.3...\n",
              "                               ...                        \n",
              "94650    LINESTRING (-86.76221 36.16760, -86.76275 36.1...\n",
              "94789    LINESTRING (-86.77707 36.12617, -86.77705 36.1...\n",
              "94794    LINESTRING (-86.84079 36.15400, -86.84201 36.1...\n",
              "94893    LINESTRING (-86.74435 36.14281, -86.74437 36.1...\n",
              "95025    LINESTRING (-86.70474 36.12184, -86.70476 36.1...\n",
              "Name: geometry, Length: 8641, dtype: geometry"
            ]
          },
          "metadata": {},
          "execution_count": 17
        }
      ],
      "source": [
        "roads.geometry # these are the line strings describing the road."
      ]
    },
    {
      "cell_type": "code",
      "execution_count": null,
      "id": "bf8ef24c-aed2-41d7-bbe9-2e753256bdf9",
      "metadata": {
        "id": "bf8ef24c-aed2-41d7-bbe9-2e753256bdf9"
      },
      "outputs": [],
      "source": [
        "# read parquet data"
      ]
    },
    {
      "cell_type": "code",
      "source": [
        "incident_data = spark.read.parquet('/content/nfd_incidents_xd_seg.parquet').withColumn(\"date\", to_date('time_utc')).withColumn(\"hour\", hour(\"time_utc\"))\n",
        "incident_data.show()"
      ],
      "metadata": {
        "id": "9_u7MFG4wJRl",
        "colab": {
          "base_uri": "https://localhost:8080/"
        },
        "outputId": "c5bdb0e3-5d2f-46fb-de73-7467097e43b0"
      },
      "id": "9_u7MFG4wJRl",
      "execution_count": 6,
      "outputs": [
        {
          "output_type": "stream",
          "name": "stdout",
          "text": [
            "+--------------------+-----------+------------+-------------+--------------------+--------------------+-----------------+-----------+--------------+--------------------+-----------+--------------------+-------------+----------+----+\n",
            "|         ID_Original|   latitude|   longitude|emdCardNumber|            time_utc|          time_local|response_time_sec|day_of_week|weekend_or_not|            geometry|Incident_ID|         Dist_to_Seg|      XDSegID|      date|hour|\n",
            "+--------------------+-----------+------------+-------------+--------------------+--------------------+-----------------+-----------+--------------+--------------------+-----------+--------------------+-------------+----------+----+\n",
            "|ObjectId(59d3a819...|36.03722849|-86.78324314|         29B5|2017-01-01 07:59:...|2017-01-01 01:59:...|            268.0|          6|             1|POINT (-86.783243...|         10|  13.550370382347305|1.524393684E9|2017-01-01|   7|\n",
            "|ObjectId(59d3a819...|36.03741402|-86.78657189|        29D2P| 2017-01-01 08:30:55| 2017-01-01 02:30:55|            512.0|          6|             1|POINT (-86.786571...|         11|  3.6639521286614225|1.524356434E9|2017-01-01|   8|\n",
            "|ObjectId(59d3a81a...|36.21766267|-86.80869908|        29D1H| 2017-01-01 09:35:10| 2017-01-01 03:35:10|            271.0|          6|             1|POINT (-86.808699...|         12|                null|         null|2017-01-01|   9|\n",
            "|ObjectId(59d3a81a...|36.05779026|-86.73972836|        29D8V|2017-01-01 10:29:...|2017-01-01 04:29:...|            366.0|          6|             1|POINT (-86.739728...|         13|                null|         null|2017-01-01|  10|\n",
            "|ObjectId(59d3a81a...|36.03922079|-86.60278517|        29A2V| 2017-01-01 11:09:13| 2017-01-01 05:09:13|            447.0|          6|             1|POINT (-86.602785...|         14|   3.171781614079594| 4.49620819E8|2017-01-01|  11|\n",
            "|ObjectId(59d3a81a...|36.17626943|-86.77259127|         29A2| 2017-01-01 11:19:06| 2017-01-01 05:19:06|            272.0|          6|             1|POINT (-86.772591...|         15|  12.303987671832065|  3.9606837E8|2017-01-01|  11|\n",
            "|ObjectId(59d3a81b...|36.12457356|-86.70003704|         29B5| 2017-01-01 11:58:05| 2017-01-01 05:58:05|            207.0|          6|             1|POINT (-86.700037...|         16| 0.43977600410940326| 1.56041062E8|2017-01-01|  11|\n",
            "|ObjectId(59d3a81b...|36.03722849|-86.78324314|         29B5| 2017-01-01 13:24:15| 2017-01-01 07:24:15|            442.0|          6|             1|POINT (-86.783243...|         17|  13.550370382347305|1.524393684E9|2017-01-01|  13|\n",
            "|ObjectId(59d3a81b...|36.16627491|-86.61177092|         29B5| 2017-01-01 13:29:12| 2017-01-01 07:29:12|            715.0|          6|             1|POINT (-86.611770...|         18|  3.5960680523120807|1.524450692E9|2017-01-01|  13|\n",
            "|ObjectId(59d3a81b...|36.12177807|-86.76291116|         29B1| 2017-01-01 14:07:49| 2017-01-01 08:07:49|            320.0|          6|             1|POINT (-86.762911...|         19|   1.162080398654493|1.524630585E9|2017-01-01|  14|\n",
            "|ObjectId(59d3a81b...|36.27212796|-86.68956725|         29A1| 2017-01-01 14:38:23| 2017-01-01 08:38:23|            268.0|          6|             1|POINT (-86.689567...|         20|   5.619154783749885| 4.50433846E8|2017-01-01|  14|\n",
            "|ObjectId(59d3a81c...|36.17676163| -86.7726931|        29B1V| 2017-01-01 16:11:37| 2017-01-01 10:11:37|            608.0|          6|             1|POINT (-86.772693...|         21|   2.369052960154209|1.524470172E9|2017-01-01|  16|\n",
            "|ObjectId(59d3a81c...|36.04522787|-86.71480047|         29B5| 2017-01-01 17:05:26| 2017-01-01 11:05:26|            185.0|          6|             1|POINT (-86.714800...|         22|  1.0270451796578366| 4.49631045E8|2017-01-01|  17|\n",
            "|ObjectId(59d3a81c...|36.13823241|-86.80714448|         29B1|2017-01-01 17:45:...|2017-01-01 11:45:...|            272.0|          6|             1|POINT (-86.807144...|         23|   0.818697334180834| 4.49629705E8|2017-01-01|  17|\n",
            "|ObjectId(59d3a81c...|36.12235632|-86.78650828|         29B1| 2017-01-01 17:48:17| 2017-01-01 11:48:17|            246.0|          6|             1|POINT (-86.786508...|         24| 0.12196591114412407| 4.49629776E8|2017-01-01|  17|\n",
            "|ObjectId(59d3a81c...|36.03722849|-86.78324314|         29B1| 2017-01-01 18:52:46| 2017-01-01 12:52:46|            483.0|          6|             1|POINT (-86.783243...|         25|  13.550370382347305|1.524393684E9|2017-01-01|  18|\n",
            "|ObjectId(59d3a81d...|36.21678674| -86.6235188|         29B5| 2017-01-01 19:12:07| 2017-01-01 13:12:07|            430.0|          6|             1|POINT (-86.623518...|         26|0.001559666505496297| 4.49620803E8|2017-01-01|  19|\n",
            "|ObjectId(59d3a81d...|36.16102973|-86.77720388|        29D2M| 2017-01-01 22:00:59| 2017-01-01 16:00:59|            158.0|          6|             1|POINT (-86.777203...|         27|  0.6504744043237719| 4.49630784E8|2017-01-01|  22|\n",
            "|ObjectId(59d3a81e...|36.04537322|-86.65885054|         29B1|2017-01-01 23:07:...|2017-01-01 17:07:...|            374.0|          6|             1|POINT (-86.658850...|         28|  1.9612656553367578| 1.52431367E9|2017-01-01|  23|\n",
            "|ObjectId(59d3a81e...|36.15876015| -86.6027096|         29B5| 2017-01-02 00:50:41| 2017-01-01 18:50:41|            417.0|          6|             1|POINT (-86.602709...|         29|                null|         null|2017-01-02|   0|\n",
            "+--------------------+-----------+------------+-------------+--------------------+--------------------+-----------------+-----------+--------------+--------------------+-----------+--------------------+-------------+----------+----+\n",
            "only showing top 20 rows\n",
            "\n"
          ]
        }
      ]
    },
    {
      "cell_type": "code",
      "source": [
        "# Nashville Weather Stations: KBNA, KJWN, 723271-99999\n",
        "weather_data = spark.read.parquet('/content/weather/').select('*').where(\"station_id == \\'KBNA\\' OR station_id == \\'KJWN\\'\")\n",
        "weather_data.show()\n"
      ],
      "metadata": {
        "colab": {
          "base_uri": "https://localhost:8080/"
        },
        "id": "U3G2G3C3w6Sz",
        "outputId": "4feb6f7b-e323-486c-ceaa-5fe8681bd910"
      },
      "id": "U3G2G3C3w6Sz",
      "execution_count": 8,
      "outputs": [
        {
          "output_type": "stream",
          "name": "stdout",
          "text": [
            "+----------+-------------------+----------------------+-----+-------------+---------------+-------------------+----------------+------+--------------------+-------------------+\n",
            "|     xd_id| measurement_tstamp|measurement_tstamp_str|speed|average_speed|reference_speed|travel_time_seconds|confidence_score|cvalue|          congestion| extreme_congestion|\n",
            "+----------+-------------------+----------------------+-----+-------------+---------------+-------------------+----------------+------+--------------------+-------------------+\n",
            "|1524425526|2020-01-30 00:00:00|   2020-01-30 00:00:00| 31.0|         31.0|           40.0|              30.74|            20.0|  null|               0.225|                0.0|\n",
            "| 441427676|2020-01-05 11:55:00|   2020-01-05 11:55:00| 54.2|         57.0|           57.0|               31.8|            30.0|100.00| 0.04912280701754381|0.04912280701754381|\n",
            "|1524600285|2020-01-30 02:45:00|   2020-01-30 02:45:00| 20.0|         null|           20.0|             110.29|            10.0|  null|                 0.0|               null|\n",
            "| 156041504|2020-01-19 13:00:00|   2020-01-19 13:00:00| 9.52|         10.0|           11.0|              14.17|            22.0|100.00| 0.13454545454545458|0.04800000000000004|\n",
            "| 449630893|2020-01-29 23:55:00|   2020-01-29 23:55:00| 35.0|         35.0|           28.0|               2.29|            20.0|  null|                 0.0|                0.0|\n",
            "| 450430901|2020-01-11 14:45:00|   2020-01-11 14:45:00| 16.0|         23.0|           28.0|              26.25|            30.0|100.00| 0.42857142857142855|0.30434782608695654|\n",
            "|1524292805|2020-01-31 05:50:00|   2020-01-31 05:50:00|71.57|         67.0|           67.0|              22.99|            30.0| 95.60|                 0.0|                0.0|\n",
            "| 449614932|2020-01-03 10:10:00|   2020-01-03 10:10:00|42.71|         41.0|           43.0|              18.59|            30.0|100.00|0.006744186046511608|                0.0|\n",
            "| 156491860|2020-01-29 00:00:00|   2020-01-29 00:00:00| 16.0|         16.0|           13.0|               1.18|            20.0|  null|                 0.0|                0.0|\n",
            "| 160407366|2020-01-04 12:00:00|   2020-01-04 12:00:00| 32.0|         32.0|           32.0|              26.93|            22.0|100.00|                 0.0|                0.0|\n",
            "| 449627742|2020-01-29 02:45:00|   2020-01-29 02:45:00| 16.0|         null|           16.0|               8.38|            10.0|  null|                 0.0|               null|\n",
            "| 159671993|2020-01-11 13:00:00|   2020-01-11 13:00:00| 17.0|         17.0|           19.0|              90.98|            20.0|  null| 0.10526315789473684|                0.0|\n",
            "|1524591986|2020-01-26 23:55:00|   2020-01-26 23:55:00|36.38|         36.0|           36.0|              62.41|            22.0| 96.00|                 0.0|                0.0|\n",
            "| 396114003|2020-01-19 14:50:00|   2020-01-19 14:50:00| 12.0|         12.0|           10.0|              23.44|            20.0|  null|                 0.0|                0.0|\n",
            "| 156220465|2020-01-29 05:50:00|   2020-01-29 05:50:00| 23.0|         21.0|           21.0|               9.96|            30.0|100.00|                 0.0|                0.0|\n",
            "| 156378207|2020-01-11 10:15:00|   2020-01-11 10:15:00| 23.0|         23.0|           24.0|              15.21|            20.0|  null|0.041666666666666664|                0.0|\n",
            "|1524425526|2020-01-30 00:05:00|   2020-01-30 00:05:00| 31.0|         31.0|           40.0|              30.74|            20.0|  null|               0.225|                0.0|\n",
            "| 441427676|2020-01-05 12:00:00|   2020-01-05 12:00:00| 55.0|         57.0|           57.0|              31.33|            30.0|100.00| 0.03508771929824561|0.03508771929824561|\n",
            "|1524600285|2020-01-30 02:50:00|   2020-01-30 02:50:00| 20.0|         null|           20.0|             110.29|            10.0|  null|                 0.0|               null|\n",
            "| 156041504|2020-01-19 13:05:00|   2020-01-19 13:05:00| 8.33|         10.0|           11.0|               16.2|            30.0|100.00|  0.2427272727272727|0.16699999999999998|\n",
            "+----------+-------------------+----------------------+-----+-------------+---------------+-------------------+----------------+------+--------------------+-------------------+\n",
            "only showing top 20 rows\n",
            "\n"
          ]
        }
      ]
    },
    {
      "cell_type": "code",
      "source": [
        "traffic_data = spark.read.parquet('/content/traffic/').withColumn(\"date\", to_date('measurement_tstamp')).withColumn(\"hour\", hour(\"measurement_tstamp\"))\n",
        "traffic_data.show()"
      ],
      "metadata": {
        "colab": {
          "base_uri": "https://localhost:8080/"
        },
        "id": "KC7REFsaxgYh",
        "outputId": "2883b172-eb3d-443f-e40a-005ac8f78693"
      },
      "id": "KC7REFsaxgYh",
      "execution_count": 9,
      "outputs": [
        {
          "output_type": "stream",
          "name": "stdout",
          "text": [
            "+----------+-------------------+----------------------+-----+-------------+---------------+-------------------+----------------+------+--------------------+-------------------+----------+----+\n",
            "|     xd_id| measurement_tstamp|measurement_tstamp_str|speed|average_speed|reference_speed|travel_time_seconds|confidence_score|cvalue|          congestion| extreme_congestion|      date|hour|\n",
            "+----------+-------------------+----------------------+-----+-------------+---------------+-------------------+----------------+------+--------------------+-------------------+----------+----+\n",
            "|1524425526|2020-01-30 00:00:00|   2020-01-30 00:00:00| 31.0|         31.0|           40.0|              30.74|            20.0|  null|               0.225|                0.0|2020-01-30|   0|\n",
            "| 441427676|2020-01-05 11:55:00|   2020-01-05 11:55:00| 54.2|         57.0|           57.0|               31.8|            30.0|100.00| 0.04912280701754381|0.04912280701754381|2020-01-05|  11|\n",
            "|1524600285|2020-01-30 02:45:00|   2020-01-30 02:45:00| 20.0|         null|           20.0|             110.29|            10.0|  null|                 0.0|               null|2020-01-30|   2|\n",
            "| 156041504|2020-01-19 13:00:00|   2020-01-19 13:00:00| 9.52|         10.0|           11.0|              14.17|            22.0|100.00| 0.13454545454545458|0.04800000000000004|2020-01-19|  13|\n",
            "| 449630893|2020-01-29 23:55:00|   2020-01-29 23:55:00| 35.0|         35.0|           28.0|               2.29|            20.0|  null|                 0.0|                0.0|2020-01-29|  23|\n",
            "| 450430901|2020-01-11 14:45:00|   2020-01-11 14:45:00| 16.0|         23.0|           28.0|              26.25|            30.0|100.00| 0.42857142857142855|0.30434782608695654|2020-01-11|  14|\n",
            "|1524292805|2020-01-31 05:50:00|   2020-01-31 05:50:00|71.57|         67.0|           67.0|              22.99|            30.0| 95.60|                 0.0|                0.0|2020-01-31|   5|\n",
            "| 449614932|2020-01-03 10:10:00|   2020-01-03 10:10:00|42.71|         41.0|           43.0|              18.59|            30.0|100.00|0.006744186046511608|                0.0|2020-01-03|  10|\n",
            "| 156491860|2020-01-29 00:00:00|   2020-01-29 00:00:00| 16.0|         16.0|           13.0|               1.18|            20.0|  null|                 0.0|                0.0|2020-01-29|   0|\n",
            "| 160407366|2020-01-04 12:00:00|   2020-01-04 12:00:00| 32.0|         32.0|           32.0|              26.93|            22.0|100.00|                 0.0|                0.0|2020-01-04|  12|\n",
            "| 449627742|2020-01-29 02:45:00|   2020-01-29 02:45:00| 16.0|         null|           16.0|               8.38|            10.0|  null|                 0.0|               null|2020-01-29|   2|\n",
            "| 159671993|2020-01-11 13:00:00|   2020-01-11 13:00:00| 17.0|         17.0|           19.0|              90.98|            20.0|  null| 0.10526315789473684|                0.0|2020-01-11|  13|\n",
            "|1524591986|2020-01-26 23:55:00|   2020-01-26 23:55:00|36.38|         36.0|           36.0|              62.41|            22.0| 96.00|                 0.0|                0.0|2020-01-26|  23|\n",
            "| 396114003|2020-01-19 14:50:00|   2020-01-19 14:50:00| 12.0|         12.0|           10.0|              23.44|            20.0|  null|                 0.0|                0.0|2020-01-19|  14|\n",
            "| 156220465|2020-01-29 05:50:00|   2020-01-29 05:50:00| 23.0|         21.0|           21.0|               9.96|            30.0|100.00|                 0.0|                0.0|2020-01-29|   5|\n",
            "| 156378207|2020-01-11 10:15:00|   2020-01-11 10:15:00| 23.0|         23.0|           24.0|              15.21|            20.0|  null|0.041666666666666664|                0.0|2020-01-11|  10|\n",
            "|1524425526|2020-01-30 00:05:00|   2020-01-30 00:05:00| 31.0|         31.0|           40.0|              30.74|            20.0|  null|               0.225|                0.0|2020-01-30|   0|\n",
            "| 441427676|2020-01-05 12:00:00|   2020-01-05 12:00:00| 55.0|         57.0|           57.0|              31.33|            30.0|100.00| 0.03508771929824561|0.03508771929824561|2020-01-05|  12|\n",
            "|1524600285|2020-01-30 02:50:00|   2020-01-30 02:50:00| 20.0|         null|           20.0|             110.29|            10.0|  null|                 0.0|               null|2020-01-30|   2|\n",
            "| 156041504|2020-01-19 13:05:00|   2020-01-19 13:05:00| 8.33|         10.0|           11.0|               16.2|            30.0|100.00|  0.2427272727272727|0.16699999999999998|2020-01-19|  13|\n",
            "+----------+-------------------+----------------------+-----+-------------+---------------+-------------------+----------------+------+--------------------+-------------------+----------+----+\n",
            "only showing top 20 rows\n",
            "\n"
          ]
        }
      ]
    },
    {
      "cell_type": "code",
      "source": [
        "# This method is less precise but faster. It only gets the first traffic data of the hour (although we could maybe get it closer) but runs in 4 secs\n",
        "# this method requires creating additional columns for date and hour, however creation is fast\n"
      ],
      "metadata": {
        "id": "nMAtTVME4IEe"
      },
      "id": "nMAtTVME4IEe",
      "execution_count": null,
      "outputs": []
    },
    {
      "cell_type": "code",
      "execution_count": 11,
      "id": "dc40e42e-8ef4-4c65-a784-5e8355004cad",
      "metadata": {
        "id": "dc40e42e-8ef4-4c65-a784-5e8355004cad",
        "colab": {
          "base_uri": "https://localhost:8080/"
        },
        "outputId": "b3cbd669-60bc-476b-eef2-7acc4255fa1a"
      },
      "outputs": [
        {
          "output_type": "stream",
          "name": "stdout",
          "text": [
            "+--------------------+-----------+------------+-------------+--------------------+--------------------+-----------------+-----------+--------------+--------------------+-----------+------------------+-------------+----------+----+----------+-------------------+----------------------+-----+-------------+---------------+-------------------+----------------+------+----------+------------------+----------+----+\n",
            "|         ID_Original|   latitude|   longitude|emdCardNumber|            time_utc|          time_local|response_time_sec|day_of_week|weekend_or_not|            geometry|Incident_ID|       Dist_to_Seg|      XDSegID|      date|hour|     xd_id| measurement_tstamp|measurement_tstamp_str|speed|average_speed|reference_speed|travel_time_seconds|confidence_score|cvalue|congestion|extreme_congestion|      date|hour|\n",
            "+--------------------+-----------+------------+-------------+--------------------+--------------------+-----------------+-----------+--------------+--------------------+-----------+------------------+-------------+----------+----+----------+-------------------+----------------------+-----+-------------+---------------+-------------------+----------------+------+----------+------------------+----------+----+\n",
            "|ObjectId(5e30622c...|36.18421874|-86.79806789|        29D2P|2020-01-27 11:35:...|2020-01-27 05:35:...|             null|          0|             0|POINT (-86.798067...|      19952|1.6699895827619622| 1.52438195E9|2020-01-27|  11|1524381950|2020-01-27 11:00:00|   2020-01-27 11:00:00|63.13|         61.0|           60.0|              24.64|            26.0|100.00|       0.0|               0.0|2020-01-27|  11|\n",
            "|ObjectId(5e30622c...|36.18421874|-86.79806789|        29D2P|2020-01-27 11:35:...|2020-01-27 05:35:...|             null|          0|             0|POINT (-86.798067...|      19952|1.6699895827619622| 1.52438195E9|2020-01-27|  11|1524381950|2020-01-27 11:05:00|   2020-01-27 11:05:00|64.19|         61.0|           60.0|              24.24|            30.0|100.00|       0.0|               0.0|2020-01-27|  11|\n",
            "|ObjectId(5e30622c...|36.18421874|-86.79806789|        29D2P|2020-01-27 11:35:...|2020-01-27 05:35:...|             null|          0|             0|POINT (-86.798067...|      19952|1.6699895827619622| 1.52438195E9|2020-01-27|  11|1524381950|2020-01-27 11:10:00|   2020-01-27 11:10:00|64.59|         61.0|           60.0|              24.09|            30.0|100.00|       0.0|               0.0|2020-01-27|  11|\n",
            "|ObjectId(5e30622c...|36.18421874|-86.79806789|        29D2P|2020-01-27 11:35:...|2020-01-27 05:35:...|             null|          0|             0|POINT (-86.798067...|      19952|1.6699895827619622| 1.52438195E9|2020-01-27|  11|1524381950|2020-01-27 11:15:00|   2020-01-27 11:15:00|65.99|         61.0|           60.0|              23.58|            30.0|100.00|       0.0|               0.0|2020-01-27|  11|\n",
            "|ObjectId(5e30622c...|36.18421874|-86.79806789|        29D2P|2020-01-27 11:35:...|2020-01-27 05:35:...|             null|          0|             0|POINT (-86.798067...|      19952|1.6699895827619622| 1.52438195E9|2020-01-27|  11|1524381950|2020-01-27 11:20:00|   2020-01-27 11:20:00|67.19|         61.0|           60.0|              23.16|            30.0|100.00|       0.0|               0.0|2020-01-27|  11|\n",
            "|ObjectId(5e30622c...|36.18421874|-86.79806789|        29D2P|2020-01-27 11:35:...|2020-01-27 05:35:...|             null|          0|             0|POINT (-86.798067...|      19952|1.6699895827619622| 1.52438195E9|2020-01-27|  11|1524381950|2020-01-27 11:25:00|   2020-01-27 11:25:00| 66.4|         61.0|           60.0|              23.43|            30.0|100.00|       0.0|               0.0|2020-01-27|  11|\n",
            "|ObjectId(5e30622c...|36.18421874|-86.79806789|        29D2P|2020-01-27 11:35:...|2020-01-27 05:35:...|             null|          0|             0|POINT (-86.798067...|      19952|1.6699895827619622| 1.52438195E9|2020-01-27|  11|1524381950|2020-01-27 11:30:00|   2020-01-27 11:30:00| 67.8|         61.0|           60.0|              22.95|            30.0|100.00|       0.0|               0.0|2020-01-27|  11|\n",
            "|ObjectId(5e30622c...|36.18421874|-86.79806789|        29D2P|2020-01-27 11:35:...|2020-01-27 05:35:...|             null|          0|             0|POINT (-86.798067...|      19952|1.6699895827619622| 1.52438195E9|2020-01-27|  11|1524381950|2020-01-27 11:35:00|   2020-01-27 11:35:00|65.99|         61.0|           60.0|              23.58|            30.0|100.00|       0.0|               0.0|2020-01-27|  11|\n",
            "|ObjectId(5e30622c...|36.18421874|-86.79806789|        29D2P|2020-01-27 11:35:...|2020-01-27 05:35:...|             null|          0|             0|POINT (-86.798067...|      19952|1.6699895827619622| 1.52438195E9|2020-01-27|  11|1524381950|2020-01-27 11:40:00|   2020-01-27 11:40:00|64.78|         61.0|           60.0|              24.02|            30.0|100.00|       0.0|               0.0|2020-01-27|  11|\n",
            "|ObjectId(5e30622c...|36.18421874|-86.79806789|        29D2P|2020-01-27 11:35:...|2020-01-27 05:35:...|             null|          0|             0|POINT (-86.798067...|      19952|1.6699895827619622| 1.52438195E9|2020-01-27|  11|1524381950|2020-01-27 11:45:00|   2020-01-27 11:45:00|66.59|         61.0|           60.0|              23.36|            30.0|100.00|       0.0|               0.0|2020-01-27|  11|\n",
            "|ObjectId(5e30622c...|36.18421874|-86.79806789|        29D2P|2020-01-27 11:35:...|2020-01-27 05:35:...|             null|          0|             0|POINT (-86.798067...|      19952|1.6699895827619622| 1.52438195E9|2020-01-27|  11|1524381950|2020-01-27 11:50:00|   2020-01-27 11:50:00|64.99|         61.0|           60.0|              23.94|            30.0|100.00|       0.0|               0.0|2020-01-27|  11|\n",
            "|ObjectId(5e30622c...|36.18421874|-86.79806789|        29D2P|2020-01-27 11:35:...|2020-01-27 05:35:...|             null|          0|             0|POINT (-86.798067...|      19952|1.6699895827619622| 1.52438195E9|2020-01-27|  11|1524381950|2020-01-27 11:55:00|   2020-01-27 11:55:00|64.79|         61.0|           60.0|              24.02|            30.0|100.00|       0.0|               0.0|2020-01-27|  11|\n",
            "|ObjectId(5e36112d...|36.27356712|  -86.817334|        29D8V|2020-01-31 23:49:...|2020-01-31 17:49:...|            542.0|          4|             0|POINT (-86.817334...|      20101| 5.913229821927188|1.524431236E9|2020-01-31|  23|1524431236|2020-01-31 23:00:00|   2020-01-31 23:00:00| 41.0|         41.0|           40.0|               79.4|            20.0|  null|       0.0|               0.0|2020-01-31|  23|\n",
            "|ObjectId(5e36112d...|36.27356712|  -86.817334|        29D8V|2020-01-31 23:49:...|2020-01-31 17:49:...|            542.0|          4|             0|POINT (-86.817334...|      20101| 5.913229821927188|1.524431236E9|2020-01-31|  23|1524431236|2020-01-31 23:05:00|   2020-01-31 23:05:00| 41.0|         41.0|           40.0|               79.4|            20.0|  null|       0.0|               0.0|2020-01-31|  23|\n",
            "|ObjectId(5e36112d...|36.27356712|  -86.817334|        29D8V|2020-01-31 23:49:...|2020-01-31 17:49:...|            542.0|          4|             0|POINT (-86.817334...|      20101| 5.913229821927188|1.524431236E9|2020-01-31|  23|1524431236|2020-01-31 23:10:00|   2020-01-31 23:10:00| 41.0|         41.0|           40.0|               79.4|            20.0|  null|       0.0|               0.0|2020-01-31|  23|\n",
            "|ObjectId(5e36112d...|36.27356712|  -86.817334|        29D8V|2020-01-31 23:49:...|2020-01-31 17:49:...|            542.0|          4|             0|POINT (-86.817334...|      20101| 5.913229821927188|1.524431236E9|2020-01-31|  23|1524431236|2020-01-31 23:15:00|   2020-01-31 23:15:00| 40.0|         40.0|           40.0|              81.39|            20.0|  null|       0.0|               0.0|2020-01-31|  23|\n",
            "|ObjectId(5e36112d...|36.27356712|  -86.817334|        29D8V|2020-01-31 23:49:...|2020-01-31 17:49:...|            542.0|          4|             0|POINT (-86.817334...|      20101| 5.913229821927188|1.524431236E9|2020-01-31|  23|1524431236|2020-01-31 23:20:00|   2020-01-31 23:20:00| 40.0|         40.0|           40.0|              81.39|            20.0|  null|       0.0|               0.0|2020-01-31|  23|\n",
            "|ObjectId(5e36112d...|36.27356712|  -86.817334|        29D8V|2020-01-31 23:49:...|2020-01-31 17:49:...|            542.0|          4|             0|POINT (-86.817334...|      20101| 5.913229821927188|1.524431236E9|2020-01-31|  23|1524431236|2020-01-31 23:25:00|   2020-01-31 23:25:00| 40.0|         40.0|           40.0|              81.39|            20.0|  null|       0.0|               0.0|2020-01-31|  23|\n",
            "|ObjectId(5e36112d...|36.27356712|  -86.817334|        29D8V|2020-01-31 23:49:...|2020-01-31 17:49:...|            542.0|          4|             0|POINT (-86.817334...|      20101| 5.913229821927188|1.524431236E9|2020-01-31|  23|1524431236|2020-01-31 23:30:00|   2020-01-31 23:30:00| 40.0|         40.0|           40.0|              81.39|            20.0|  null|       0.0|               0.0|2020-01-31|  23|\n",
            "|ObjectId(5e36112d...|36.27356712|  -86.817334|        29D8V|2020-01-31 23:49:...|2020-01-31 17:49:...|            542.0|          4|             0|POINT (-86.817334...|      20101| 5.913229821927188|1.524431236E9|2020-01-31|  23|1524431236|2020-01-31 23:35:00|   2020-01-31 23:35:00| 40.0|         40.0|           40.0|              81.39|            20.0|  null|       0.0|               0.0|2020-01-31|  23|\n",
            "+--------------------+-----------+------------+-------------+--------------------+--------------------+-----------------+-----------+--------------+--------------------+-----------+------------------+-------------+----------+----+----------+-------------------+----------------------+-----+-------------+---------------+-------------------+----------------+------+----------+------------------+----------+----+\n",
            "only showing top 20 rows\n",
            "\n"
          ]
        }
      ],
      "source": [
        "incidents_plus_traffic = incident_data.join(traffic_data, [incident_data.date == traffic_data.date, incident_data.hour == traffic_data.hour, incident_data.XDSegID == traffic_data.xd_id], 'left').select('*').where('speed > 0')\n",
        "\n",
        "incidents_plus_traffic.show()"
      ]
    },
    {
      "cell_type": "code",
      "source": [
        "# This is the most precise, joins to exact closest traffic data. It took about 2:45 to run."
      ],
      "metadata": {
        "id": "-pOjh7DE36eS"
      },
      "id": "-pOjh7DE36eS",
      "execution_count": null,
      "outputs": []
    },
    {
      "cell_type": "code",
      "source": [
        "more_precise_join = incident_data.join(traffic_data, [unix_timestamp(traffic_data.measurement_tstamp) - unix_timestamp(incident_data.time_utc) <= 300, incident_data.XDSegID == traffic_data.xd_id], 'left').select('*').where('speed > 0')\n",
        "\n",
        "more_precise_join.show()"
      ],
      "metadata": {
        "id": "wZnzuzYOvvlH",
        "colab": {
          "base_uri": "https://localhost:8080/"
        },
        "outputId": "bfc30f10-d8f8-452c-cb60-137a14aefdea"
      },
      "id": "wZnzuzYOvvlH",
      "execution_count": 16,
      "outputs": [
        {
          "output_type": "stream",
          "name": "stdout",
          "text": [
            "+--------------------+-----------+------------+-------------+--------------------+--------------------+-----------------+-----------+--------------+--------------------+-----------+-------------------+-------------+----------+----+----------+-------------------+----------------------+-----+-------------+---------------+-------------------+----------------+------+----------+--------------------+----------+----+\n",
            "|         ID_Original|   latitude|   longitude|emdCardNumber|            time_utc|          time_local|response_time_sec|day_of_week|weekend_or_not|            geometry|Incident_ID|        Dist_to_Seg|      XDSegID|      date|hour|     xd_id| measurement_tstamp|measurement_tstamp_str|speed|average_speed|reference_speed|travel_time_seconds|confidence_score|cvalue|congestion|  extreme_congestion|      date|hour|\n",
            "+--------------------+-----------+------------+-------------+--------------------+--------------------+-----------------+-----------+--------------+--------------------+-----------+-------------------+-------------+----------+----+----------+-------------------+----------------------+-----+-------------+---------------+-------------------+----------------+------+----------+--------------------+----------+----+\n",
            "|ObjectId(6000ceb0...|36.16997278|-86.60232193|        29B5V|2021-01-11 22:24:...|2021-01-11 16:24:...|            463.0|          0|             0|POINT (-86.602321...|      28722| 1.3849057206224056|1.524292805E9|2021-01-11|  22|1524292805|2020-01-31 05:50:00|   2020-01-31 05:50:00|71.57|         67.0|           67.0|              22.99|            30.0| 95.60|       0.0|                 0.0|2020-01-31|   5|\n",
            "|ObjectId(5f0e57cc...|36.17021089|-86.59921501|         29D5|2020-05-05 14:52:...|2020-05-05 09:52:...|            726.0|          1|             0|POINT (-86.599215...|      22361|  7.667439730923285|1.524292805E9|2020-05-05|  14|1524292805|2020-01-31 05:50:00|   2020-01-31 05:50:00|71.57|         67.0|           67.0|              22.99|            30.0| 95.60|       0.0|                 0.0|2020-01-31|   5|\n",
            "|ObjectId(60367879...|36.26927198|-86.75574184|         29B1|2021-02-24 15:58:...|2021-02-24 09:58:...|            381.0|          2|             0|POINT (-86.755741...|      29650|  1.345828947108492|1.524591986E9|2021-02-24|  15|1524591986|2020-01-26 23:55:00|   2020-01-26 23:55:00|36.38|         36.0|           36.0|              62.41|            22.0| 96.00|       0.0|                 0.0|2020-01-26|  23|\n",
            "|ObjectId(602d88f3...|36.26927198|-86.75574184|         29B1|2021-02-17 21:18:...|2021-02-17 15:18:...|           1082.0|          2|             0|POINT (-86.755741...|      29547|  1.345828947108492|1.524591986E9|2021-02-17|  21|1524591986|2020-01-26 23:55:00|   2020-01-26 23:55:00|36.38|         36.0|           36.0|              62.41|            22.0| 96.00|       0.0|                 0.0|2020-01-26|  23|\n",
            "|ObjectId(5f18d404...|36.26927198|-86.75574184|         29B1|2020-07-22 02:23:...|2020-07-21 21:23:...|            147.0|          1|             0|POINT (-86.755741...|      24247|  1.345828947108492|1.524591986E9|2020-07-22|   2|1524591986|2020-01-26 23:55:00|   2020-01-26 23:55:00|36.38|         36.0|           36.0|              62.41|            22.0| 96.00|       0.0|                 0.0|2020-01-26|  23|\n",
            "|ObjectId(5efbd831...|36.26927198|-86.75574184|         29B1|2020-06-28 21:59:...|2020-06-28 16:59:...|             29.0|          6|             1|POINT (-86.755741...|      23701|  1.345828947108492|1.524591986E9|2020-06-28|  21|1524591986|2020-01-26 23:55:00|   2020-01-26 23:55:00|36.38|         36.0|           36.0|              62.41|            22.0| 96.00|       0.0|                 0.0|2020-01-26|  23|\n",
            "|ObjectId(5f0bb163...|36.26927198|-86.75574184|        29A2V|2020-06-18 15:31:...|2020-06-18 10:31:...|            188.0|          3|             0|POINT (-86.755741...|      23407|  1.345828947108492|1.524591986E9|2020-06-18|  15|1524591986|2020-01-26 23:55:00|   2020-01-26 23:55:00|36.38|         36.0|           36.0|              62.41|            22.0| 96.00|       0.0|                 0.0|2020-01-26|  23|\n",
            "|ObjectId(5f0a5472...|36.26927198|-86.75574184|         29A2|2020-05-18 22:26:...|2020-05-18 17:26:...|            294.0|          0|             0|POINT (-86.755741...|      22655|  1.345828947108492|1.524591986E9|2020-05-18|  22|1524591986|2020-01-26 23:55:00|   2020-01-26 23:55:00|36.38|         36.0|           36.0|              62.41|            22.0| 96.00|       0.0|                 0.0|2020-01-26|  23|\n",
            "|ObjectId(5e47d423...|36.27230677|-86.75397985|         29B1|2020-02-15 11:17:...|2020-02-15 05:17:...|            332.0|          5|             1|POINT (-86.753979...|      20555| 11.025429642680152|1.524591986E9|2020-02-15|  11|1524591986|2020-01-26 23:55:00|   2020-01-26 23:55:00|36.38|         36.0|           36.0|              62.41|            22.0| 96.00|       0.0|                 0.0|2020-01-26|  23|\n",
            "|ObjectId(5e30cb9b...|36.26927198|-86.75574184|         29B5|2020-01-28 12:40:...|2020-01-28 06:40:...|            456.0|          1|             0|POINT (-86.755741...|      19988|  1.345828947108492|1.524591986E9|2020-01-28|  12|1524591986|2020-01-26 23:55:00|   2020-01-26 23:55:00|36.38|         36.0|           36.0|              62.41|            22.0| 96.00|       0.0|                 0.0|2020-01-26|  23|\n",
            "|ObjectId(603da926...| 36.0588899|-86.67832368|         29B1|2021-03-02 02:51:...|2021-03-01 20:51:...|            482.0|          0|             0|POINT (-86.678323...|      29769|  8.673978838802046|1.524313548E9|2021-03-02|   2|1524313548|2020-01-31 00:00:00|   2020-01-31 00:00:00|66.32|         65.0|           65.0|              30.52|            30.0| 59.40|       0.0|                 0.0|2020-01-31|   0|\n",
            "|ObjectId(602a01b3...| 36.0588899|-86.67832368|        29B1U|2021-02-15 05:03:...|2021-02-14 23:03:...|           1120.0|          6|             1|POINT (-86.678323...|      29517|  8.673978838802046|1.524313548E9|2021-02-15|   5|1524313548|2020-01-31 00:00:00|   2020-01-31 00:00:00|66.32|         65.0|           65.0|              30.52|            30.0| 59.40|       0.0|                 0.0|2020-01-31|   0|\n",
            "|ObjectId(5f7b4567...|36.06086361|-86.68049089|         29B5|2020-10-04 09:29:...|2020-10-04 04:29:...|            417.0|          6|             1|POINT (-86.680490...|      26186| 0.3583020236709886|1.524313548E9|2020-10-04|   9|1524313548|2020-01-31 00:00:00|   2020-01-31 00:00:00|66.32|         65.0|           65.0|              30.52|            30.0| 59.40|       0.0|                 0.0|2020-01-31|   0|\n",
            "|ObjectId(5f69d4e6...| 36.0588899|-86.67832368|         29B1| 2020-09-22 10:38:39| 2020-09-22 05:38:39|            491.0|          1|             0|POINT (-86.678323...|      25906|  8.673978838802046|1.524313548E9|2020-09-22|  10|1524313548|2020-01-31 00:00:00|   2020-01-31 00:00:00|66.32|         65.0|           65.0|              30.52|            30.0| 59.40|       0.0|                 0.0|2020-01-31|   0|\n",
            "|ObjectId(5e8a330b...|36.06086361|-86.68049089|         29A2|2020-04-05 19:31:...|2020-04-05 14:31:...|            321.0|          6|             1|POINT (-86.680490...|      21814| 0.3583020236709886|1.524313548E9|2020-04-05|  19|1524313548|2020-01-31 00:00:00|   2020-01-31 00:00:00|66.32|         65.0|           65.0|              30.52|            30.0| 59.40|       0.0|                 0.0|2020-01-31|   0|\n",
            "|ObjectId(5f0a58d4...|36.01030269|-86.70214643|        29B5U|2020-05-10 20:25:...|2020-05-10 15:25:...|            468.0|          6|             1|POINT (-86.702146...|      22470|0.48760551963422843| 4.49630962E8|2020-05-10|  20| 449630962|2020-01-26 05:50:00|   2020-01-26 05:50:00| 40.0|         41.0|           37.0|              20.12|            30.0|100.00|       0.0|0.024390243902439025|2020-01-26|   5|\n",
            "|ObjectId(603c77dd...|36.12182872|-86.70484036|         29B5|2021-03-01 05:11:...|2021-02-28 23:11:...|            436.0|          6|             1|POINT (-86.704840...|      29755|  7.488101313027694|1.524646899E9|2021-03-01|   5|1524646899|2020-01-28 00:00:00|   2020-01-28 00:00:00|32.81|         30.0|           31.0|              53.37|            26.0| 94.67|       0.0|                 0.0|2020-01-28|   0|\n",
            "|ObjectId(60014751...|36.12492967|-86.70879491|         29D7|2020-12-25 10:16:...|2020-12-25 04:16:...|            258.0|          4|             0|POINT (-86.708794...|      28355|  6.422540516543317|1.524646899E9|2020-12-25|  10|1524646899|2020-01-28 00:00:00|   2020-01-28 00:00:00|32.81|         30.0|           31.0|              53.37|            26.0| 94.67|       0.0|                 0.0|2020-01-28|   0|\n",
            "|ObjectId(5ed05394...|36.12182872|-86.70484036|        29D5Y|2020-04-26 14:48:...|2020-04-26 09:48:...|            341.0|          6|             1|POINT (-86.704840...|      22184|  7.488101313027694|1.524646899E9|2020-04-26|  14|1524646899|2020-01-28 00:00:00|   2020-01-28 00:00:00|32.81|         30.0|           31.0|              53.37|            26.0| 94.67|       0.0|                 0.0|2020-01-28|   0|\n",
            "|ObjectId(5e87ecb8...|36.12182872|-86.70484036|        29B1V|2020-04-04 02:06:...|2020-04-03 21:06:...|            156.0|          4|             0|POINT (-86.704840...|      21781|  7.488101313027694|1.524646899E9|2020-04-04|   2|1524646899|2020-01-28 00:00:00|   2020-01-28 00:00:00|32.81|         30.0|           31.0|              53.37|            26.0| 94.67|       0.0|                 0.0|2020-01-28|   0|\n",
            "+--------------------+-----------+------------+-------------+--------------------+--------------------+-----------------+-----------+--------------+--------------------+-----------+-------------------+-------------+----------+----+----------+-------------------+----------------------+-----+-------------+---------------+-------------------+----------------+------+----------+--------------------+----------+----+\n",
            "only showing top 20 rows\n",
            "\n"
          ]
        }
      ]
    },
    {
      "cell_type": "code",
      "source": [
        "# The first join method makes the most sense with weather data because weather data is only accurate within an hour anyways.\n",
        "# The second join method may be necessary if we want accurate traffic data because it is more precise. We can't compare minutes with\n",
        "# the first method without adding more code that would probably slow it down quite a bit anyways. "
      ],
      "metadata": {
        "id": "p6pGr-Tu4rnD"
      },
      "id": "p6pGr-Tu4rnD",
      "execution_count": null,
      "outputs": []
    }
  ],
  "metadata": {
    "kernelspec": {
      "display_name": "Python 3 (ipykernel)",
      "language": "python",
      "name": "python3"
    },
    "language_info": {
      "codemirror_mode": {
        "name": "ipython",
        "version": 3
      },
      "file_extension": ".py",
      "mimetype": "text/x-python",
      "name": "python",
      "nbconvert_exporter": "python",
      "pygments_lexer": "ipython3",
      "version": "3.9.7"
    },
    "colab": {
      "provenance": []
    }
  },
  "nbformat": 4,
  "nbformat_minor": 5
}